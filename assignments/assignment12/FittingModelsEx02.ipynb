{
 "cells": [
  {
   "cell_type": "markdown",
   "metadata": {
    "nbgrader": {}
   },
   "source": [
    "# Fitting Models Exercise 2"
   ]
  },
  {
   "cell_type": "markdown",
   "metadata": {
    "nbgrader": {}
   },
   "source": [
    "## Imports"
   ]
  },
  {
   "cell_type": "code",
   "execution_count": 57,
   "metadata": {
    "collapsed": true,
    "nbgrader": {}
   },
   "outputs": [],
   "source": [
    "%matplotlib inline\n",
    "import matplotlib.pyplot as plt\n",
    "import numpy as np\n",
    "import scipy.optimize as opt"
   ]
  },
  {
   "cell_type": "markdown",
   "metadata": {
    "nbgrader": {}
   },
   "source": [
    "## Fitting a decaying oscillation"
   ]
  },
  {
   "cell_type": "markdown",
   "metadata": {
    "nbgrader": {}
   },
   "source": [
    "For this problem you are given a raw dataset in the file `decay_osc.npz`. This file contains three arrays:\n",
    "\n",
    "* `tdata`: an array of time values\n",
    "* `ydata`: an array of y values\n",
    "* `dy`: the absolute uncertainties (standard deviations) in y\n",
    "\n",
    "Your job is to fit the following model to this data:\n",
    "\n",
    "$$ y(t) = A e^{-\\lambda t} \\cos{\\omega t + \\delta} $$\n",
    "\n",
    "First, import the data using NumPy and make an appropriately styled error bar plot of the raw data."
   ]
  },
  {
   "cell_type": "code",
   "execution_count": 58,
   "metadata": {
    "collapsed": false,
    "deletable": false,
    "nbgrader": {
     "checksum": "6cff4e8e53b15273846c3aecaea84a3d",
     "solution": true
    }
   },
   "outputs": [],
   "source": [
    "A=np.load('decay_osc.npz')"
   ]
  },
  {
   "cell_type": "code",
   "execution_count": 59,
   "metadata": {
    "collapsed": false
   },
   "outputs": [],
   "source": [
    "tdata = A['tdata']\n",
    "ydata= A['ydata']\n",
    "dy = A['dy']"
   ]
  },
  {
   "cell_type": "code",
   "execution_count": 60,
   "metadata": {
    "collapsed": false
   },
   "outputs": [
    {
     "data": {
      "text/plain": [
       "(array([  0.23181023,   0.75756308,   0.79449188,   1.06440841,\n",
       "          1.15442   ,   1.2074788 ,   1.6082512 ,   1.84020235,\n",
       "          2.26847064,   2.4663936 ,   2.73670264,   3.51277747,\n",
       "          3.69390206,   4.40311262,   4.92725839,   5.01612571,\n",
       "          5.45756459,   5.77519885,   5.92089063,   6.34168734,\n",
       "          7.25390092,   7.53691783,   7.5695311 ,   7.90738928,\n",
       "          9.14672657,   9.91487324,  10.00612156,  10.90520466,\n",
       "         11.11871571,  11.2010993 ,  11.54757171,  11.73261207,\n",
       "         12.33314215,  12.53762032,  12.95405221,  13.2536048 ,\n",
       "         13.26900451,  14.07723698,  14.38998527,  14.56464101,\n",
       "         14.97249975,  16.09455364,  16.86871453,  17.01532558,\n",
       "         18.03660694,  18.76147469,  19.04467933,  19.55174508,\n",
       "         19.59947156,  19.69287049]),\n",
       " array([-5.11971604, -2.84019899, -4.55222367, -1.06305079, -1.09953019,\n",
       "        -1.92218542, -0.59020311,  1.85089586,  3.16111471,  3.06495644,\n",
       "         4.48901465,  4.51430527,  3.3223624 ,  3.060024  , -1.29224873,\n",
       "        -0.3399654 , -3.40969819, -2.56486305, -2.37543706, -2.48478812,\n",
       "        -2.81948031, -0.70505326,  1.34483188,  0.40966188,  3.42459268,\n",
       "         0.69676068,  2.01185751,  0.16295044, -0.76996363, -1.27652668,\n",
       "        -0.53415007, -1.07417858, -2.1761134 , -2.2696592 , -1.75609407,\n",
       "        -1.85163761, -1.34630634,  0.70453535,  0.52977223,  1.59203359,\n",
       "         2.77592308,  1.01095984,  0.46912102,  1.23047778, -1.16710647,\n",
       "        -0.445895  , -2.57912718,  0.42990156, -0.561772  , -0.04998557]),\n",
       " array([-0.36496298,  0.5273403 , -1.31654655,  1.11718996,  0.7022342 ,\n",
       "        -0.3474073 , -0.74961891,  0.74378254,  0.60086554,  0.01513279,\n",
       "         0.99358238,  1.23501009,  0.38040594,  2.08020409, -0.64090611,\n",
       "         0.56560325, -1.44522866, -0.11280122,  0.21087276,  0.16255611,\n",
       "        -1.45250123,  0.02860089,  2.00304072,  0.28861505,  1.49829406,\n",
       "        -0.93999144,  0.47556696,  0.01131728, -0.56794271, -0.9436255 ,\n",
       "         0.29211413, -0.03459027, -0.75892383, -0.84310407, -0.48875094,\n",
       "        -0.82467465, -0.33400402,  0.77781567,  0.23315726,  1.1089334 ,\n",
       "         1.94636771,  0.08477602,  0.10017441,  0.99299024, -0.60108347,\n",
       "         0.31703138, -1.84874594,  0.97018015, -0.04638158,  0.4140329 ]))"
      ]
     },
     "execution_count": 60,
     "metadata": {},
     "output_type": "execute_result"
    }
   ],
   "source": [
    "tdata, ydata, dy"
   ]
  },
  {
   "cell_type": "code",
   "execution_count": 61,
   "metadata": {
    "collapsed": false
   },
   "outputs": [
    {
     "data": {
      "text/plain": [
       "<matplotlib.text.Text at 0x7fd42dd64a90>"
      ]
     },
     "execution_count": 61,
     "metadata": {},
     "output_type": "execute_result"
    },
    {
     "data": {
      "image/png": "[encoded data removed]",
      "text/plain": [
       "<matplotlib.figure.Figure at 0x7fd42e7e8e48>"
      ]
     },
     "metadata": {},
     "output_type": "display_data"
    }
   ],
   "source": [
    "plt.figure(figsize=(10,5))\n",
    "plt.scatter(tdata,ydata)\n",
    "plt.errorbar(tdata, ydata, dy,fmt='.k', ecolor='lightgray')\n",
    "plt.box(False)\n",
    "plt.xlabel('t')\n",
    "plt.ylabel('y')\n",
    "plt.title('Decay Data')"
   ]
  },
  {
   "cell_type": "code",
   "execution_count": 62,
   "metadata": {
    "collapsed": true,
    "deletable": false,
    "nbgrader": {
     "checksum": "8fe685c8222cc4b0b71fde4d0409d50f",
     "grade": true,
     "grade_id": "fittingmodelsex02a",
     "points": 5
    }
   },
   "outputs": [],
   "source": [
    "assert True # leave this to grade the data import and raw data plot"
   ]
  },
  {
   "cell_type": "markdown",
   "metadata": {
    "nbgrader": {}
   },
   "source": [
    "Now, using `curve_fit` to fit this model and determine the estimates and uncertainties for the parameters:\n",
    "\n",
    "* Print the parameters estimates and uncertainties.\n",
    "* Plot the raw and best fit model.\n",
    "* You will likely have to pass an initial guess to `curve_fit` to get a good fit.\n",
    "* Treat the uncertainties in $y$ as *absolute errors* by passing `absolute_sigma=True`. "
   ]
  },
  {
   "cell_type": "code",
   "execution_count": 63,
   "metadata": {
    "collapsed": false,
    "deletable": false,
    "nbgrader": {
     "checksum": "6cff4e8e53b15273846c3aecaea84a3d",
     "solution": true
    }
   },
   "outputs": [],
   "source": [
    "def exp_model(t, A, B,omega,dl):\n",
    "    return A*np.exp(-B*t)*np.cos(omega*t) + dl"
   ]
  },
  {
   "cell_type": "code",
   "execution_count": 64,
   "metadata": {
    "collapsed": true
   },
   "outputs": [],
   "source": [
    "theta_best, theta_cov = opt.curve_fit(exp_model, tdata, ydata, absolute_sigma=True)"
   ]
  },
  {
   "cell_type": "code",
   "execution_count": 65,
   "metadata": {
    "collapsed": false
   },
   "outputs": [
    {
     "name": "stdout",
     "output_type": "stream",
     "text": [
      "A = -5.285 +/- 0.520\n",
      "B = 0.071 +/- 0.014\n",
      "omega = -1.012 +/- 0.009\n",
      "dl = 0.229 +/- 0.147\n"
     ]
    }
   ],
   "source": [
    "print('A = {0:.3f} +/- {1:.3f}'.format(theta_best[0], np.sqrt(theta_cov[0,0])))\n",
    "print('B = {0:.3f} +/- {1:.3f}'.format(theta_best[1], np.sqrt(theta_cov[1,1])))\n",
    "print('omega = {0:.3f} +/- {1:.3f}'.format(theta_best[2], np.sqrt(theta_cov[2,2])))\n",
    "print('dl = {0:.3f} +/- {1:.3f}'.format(theta_best[3], np.sqrt(theta_cov[3,3])))"
   ]
  },
  {
   "cell_type": "code",
   "execution_count": 67,
   "metadata": {
    "collapsed": false
   },
   "outputs": [
    {
     "data": {
      "text/plain": [
       "<matplotlib.text.Text at 0x7fd42dcc60b8>"
      ]
     },
     "execution_count": 67,
     "metadata": {},
     "output_type": "execute_result"
    },
    {
     "data": {
      "image/png": "[encoded data removed]",
      "text/plain": [
       "<matplotlib.figure.Figure at 0x7fd42dca0c18>"
      ]
     },
     "metadata": {},
     "output_type": "display_data"
    }
   ],
   "source": [
    "yfit= exp_model(tdata,theta_best[0],theta_best[1],theta_best[2],theta_best[3])\n",
    "plt.figure(figsize=(15,5))\n",
    "plt.scatter(tdata,ydata,color='black')\n",
    "plt.errorbar(tdata, ydata, dy,fmt='.k', ecolor='lightgray')\n",
    "plt.plot(tdata,yfit)\n",
    "plt.box(False)\n",
    "plt.title('Best Fit Exp Model')\n",
    "plt.ylabel('ydata')\n",
    "plt.xlabel('tdata')"
   ]
  },
  {
   "cell_type": "code",
   "execution_count": 44,
   "metadata": {
    "collapsed": true,
    "deletable": false,
    "nbgrader": {
     "checksum": "abacc1ad72e3412252e4ed47c8f65897",
     "grade": true,
     "grade_id": "fittingmodelsex02b",
     "points": 5
    }
   },
   "outputs": [],
   "source": [
    "assert True # leave this cell for grading the fit; should include a plot and printout of the parameters+errors"
   ]
  },
  {
   "cell_type": "code",
   "execution_count": null,
   "metadata": {
    "collapsed": true
   },
   "outputs": [],
   "source": []
  }
 ],
 "metadata": {
  "kernelspec": {
   "display_name": "Python 3",
   "language": "python",
   "name": "python3"
  },
  "language_info": {
   "codemirror_mode": {
    "name": "ipython",
    "version": 3
   },
   "file_extension": ".py",
   "mimetype": "text/x-python",
   "name": "python",
   "nbconvert_exporter": "python",
   "pygments_lexer": "ipython3",
   "version": "3.4.0"
  }
 },
 "nbformat": 4,
 "nbformat_minor": 0
}
