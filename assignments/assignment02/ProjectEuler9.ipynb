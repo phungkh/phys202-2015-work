{
 "cells": [
  {
   "cell_type": "markdown",
   "metadata": {
    "nbgrader": {}
   },
   "source": [
    "# Project Euler: Problem 9"
   ]
  },
  {
   "cell_type": "markdown",
   "metadata": {
    "nbgrader": {}
   },
   "source": [
    "https://projecteuler.net/problem=9\n",
    "\n",
    "A Pythagorean triplet is a set of three natural numbers, $a < b < c$, for which,\n",
    "\n",
    "$$a^2 + b^2 = c^2$$\n",
    "\n",
    "For example, $3^2 + 4^2 = 9 + 16 = 25 = 5^2$.\n",
    "\n",
    "There exists exactly one Pythagorean triplet for which $a + b + c = 1000$. Find the product abc."
   ]
  },
  {
   "cell_type": "code",
   "execution_count": 21,
   "metadata": {
    "collapsed": false,
    "deletable": false,
    "nbgrader": {
     "checksum": "6cff4e8e53b15273846c3aecaea84a3d",
     "solution": true
    }
   },
   "outputs": [
    {
     "name": "stdout",
     "output_type": "stream",
     "text": [
      "[200, 375]\n",
      "[375, 200]\n",
      "[425, 425]\n"
     ]
    }
   ],
   "source": [
    "a=list(range(500)) # I know that no value can be over 500, so range 500 is a safe bet.\n",
    "b=list(range(500))\n",
    "c=list(range(500))\n",
    "d=[]\n",
    "e=[]\n",
    "f=[]\n",
    "for x in a:\n",
    "    for y in b:\n",
    "        for z in c:\n",
    "            if x+y+z==1000 and ((x**2)+(y**2)==(z**2)) and x>0 and y>0 and z>0: # my conditions\n",
    "                d.append(x)\n",
    "                e.append(y)\n",
    "                f.append(z)\n",
    "                \n",
    "print(d)\n",
    "print(e)\n",
    "print(f)\n",
    "\n",
    "# our Pythagorean triplet is 200,375, and 425!"
   ]
  },
  {
   "cell_type": "code",
   "execution_count": null,
   "metadata": {
    "collapsed": false
   },
   "outputs": [],
   "source": [
    "\n",
    "\n",
    "                "
   ]
  },
  {
   "cell_type": "raw",
   "metadata": {
    "collapsed": true,
    "deletable": false,
    "nbgrader": {
     "checksum": "b69b04efdc2f53ed5e3904c5ed86c12e",
     "grade": true,
     "grade_id": "projecteuler9",
     "points": 10
    }
   },
   "source": [
    "# This cell will be used for grading, leave it at the end of the notebook."
   ]
  }
 ],
 "metadata": {
  "kernelspec": {
   "display_name": "Python 3",
   "language": "python",
   "name": "python3"
  },
  "language_info": {
   "codemirror_mode": {
    "name": "ipython",
    "version": 3
   },
   "file_extension": ".py",
   "mimetype": "text/x-python",
   "name": "python",
   "nbconvert_exporter": "python",
   "pygments_lexer": "ipython3",
   "version": "3.4.0"
  }
 },
 "nbformat": 4,
 "nbformat_minor": 0
}
