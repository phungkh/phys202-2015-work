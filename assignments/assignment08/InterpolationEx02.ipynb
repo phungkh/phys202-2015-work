{
 "cells": [
  {
   "cell_type": "markdown",
   "metadata": {
    "nbgrader": {}
   },
   "source": [
    "# Interpolation Exercise 2"
   ]
  },
  {
   "cell_type": "code",
   "execution_count": 1,
   "metadata": {
    "collapsed": true,
    "nbgrader": {}
   },
   "outputs": [],
   "source": [
    "%matplotlib inline\n",
    "import matplotlib.pyplot as plt\n",
    "import seaborn as sns\n",
    "import numpy as np\n",
    "sns.set_style('white')"
   ]
  },
  {
   "cell_type": "code",
   "execution_count": 2,
   "metadata": {
    "collapsed": true,
    "nbgrader": {}
   },
   "outputs": [],
   "source": [
    "from scipy.interpolate import griddata"
   ]
  },
  {
   "cell_type": "markdown",
   "metadata": {
    "nbgrader": {}
   },
   "source": [
    "## Sparse 2d interpolation"
   ]
  },
  {
   "cell_type": "markdown",
   "metadata": {
    "nbgrader": {}
   },
   "source": [
    "In this example the values of a scalar field $f(x,y)$ are known at a very limited set of points in a square domain:\n",
    "\n",
    "* The square domain covers the region $x\\in[-5,5]$ and $y\\in[-5,5]$.\n",
    "* The values of $f(x,y)$ are zero on the boundary of the square at integer spaced points.\n",
    "* The value of $f$ is known at a single interior point: $f(0,0)=1.0$.\n",
    "* The function $f$ is not known at any other points.\n",
    "\n",
    "Create arrays `x`, `y`, `f`:\n",
    "\n",
    "* `x` should be a 1d array of the x coordinates on the boundary and the 1 interior point.\n",
    "* `y` should be a 1d array of the y coordinates on the boundary and the 1 interior point.\n",
    "* `f` should be a 1d array of the values of f at the corresponding x and y coordinates.\n",
    "\n",
    "You might find that `np.hstack` is helpful."
   ]
  },
  {
   "cell_type": "code",
   "execution_count": 3,
   "metadata": {
    "collapsed": false,
    "deletable": false,
    "nbgrader": {
     "checksum": "6cff4e8e53b15273846c3aecaea84a3d",
     "solution": true
    }
   },
   "outputs": [
    {
     "data": {
      "text/plain": [
       "array([1, 0, 0, 0, 0, 0, 0, 0, 0, 0, 0, 0, 0, 0, 0, 0, 0, 0, 0, 0, 0, 0, 0,\n",
       "       0, 0, 0, 0, 0, 0, 0, 0, 0, 0, 0, 0, 0, 0, 0, 0, 0, 0])"
      ]
     },
     "execution_count": 3,
     "metadata": {},
     "output_type": "execute_result"
    }
   ],
   "source": [
    "\n",
    "#xx= np.array([[0],[-5],[-4],[-3],[-2],[-1],[0],[1],[2],[3],[4],[5],[-5],[-4],[-3],[-2],[-1],[0],[1],[2],[3],[4],[5],[-5],[-5],[-5],[-5],[-5],[-5],[-5],[-5],[-5],[5],[5],[5],[5],[5],[5],[5],[5],[5]])\n",
    "#yy= np.array([[0],[-5],[-5],[-5],[-5],[-5],[-5],[-5],[-5],[-5],[-5],[-5],[5],[5],[5],[5],[5],[5],[5],[5],[5],[5],[5],[-4],[-3],[-2],[-1],[0],[1],[2],[3],[4],[-4],[-3],[-2],[-1],[0],[1],[2],[3],[4]])\n",
    "x= np.array([0,-5,-4,-3,-2,-1,0,1,2,3,4,5,-5,-4,-3,-2,-1,0,1,2,3,4,5,-5,-5,-5,-5,-5,-5,-5,-5,-5,5,5,5,5,5,5,5,5,5])\n",
    "y=np.array([0,-5,-5,-5,-5,-5,-5,-5,-5,-5,-5,-5,5,5,5,5,5,5,5,5,5,5,5,-4,-3,-2,-1,0,1,2,3,4,-4,-3,-2,-1,0,1,2,3,4])\n",
    "#f=np.array([1,0,0,0,0,0,0,0,0,0,0,0,0,0,0,0,0,0,0,0,0,0,0,0,0,0,0,0,0,0,0,0,0,0,0,0,0,0,0,0,0])\n",
    "\n",
    "def F(x,y):\n",
    "    f=[]\n",
    "    for i in range(len(x)):               #Noah Miller helped me out with this part\n",
    "        if abs(x[i])==5 or abs(y[i])==5:\n",
    "            f.append(0)\n",
    "        elif x[i]==0 and y[i]==0:\n",
    "            f.append(1)\n",
    "    return np.array(f)\n",
    "\n",
    "f=F(x,y)\n",
    "f\n",
    "\n",
    "\n",
    "\n"
   ]
  },
  {
   "cell_type": "markdown",
   "metadata": {
    "nbgrader": {}
   },
   "source": [
    "The following plot should show the points on the boundary and the single point in the interior:"
   ]
  },
  {
   "cell_type": "code",
   "execution_count": 4,
   "metadata": {
    "collapsed": false,
    "nbgrader": {},
    "scrolled": true
   },
   "outputs": [
    {
     "data": {
      "image/png": "[encoded data removed]",
      "text/plain": [
       "<matplotlib.figure.Figure at 0x7f5a99aabb70>"
      ]
     },
     "metadata": {},
     "output_type": "display_data"
    }
   ],
   "source": [
    "plt.scatter(x, y);"
   ]
  },
  {
   "cell_type": "code",
   "execution_count": 5,
   "metadata": {
    "collapsed": false,
    "deletable": false,
    "nbgrader": {
     "checksum": "85a55a369166b5dd4b83a2501dfb2c96",
     "grade": true,
     "grade_id": "interpolationex02a",
     "points": 4
    }
   },
   "outputs": [],
   "source": [
    "assert x.shape==(41,)\n",
    "assert y.shape==(41,)\n",
    "assert f.shape==(41,)\n",
    "assert np.count_nonzero(f)==1"
   ]
  },
  {
   "cell_type": "markdown",
   "metadata": {
    "nbgrader": {}
   },
   "source": [
    "Use `meshgrid` and `griddata` to interpolate the function $f(x,y)$ on the entire square domain:\n",
    "\n",
    "* `xnew` and `ynew` should be 1d arrays with 100 points between $[-5,5]$.\n",
    "* `Xnew` and `Ynew` should be 2d versions of `xnew` and `ynew` created by `meshgrid`.\n",
    "* `Fnew` should be a 2d array with the interpolated values of $f(x,y)$ at the points (`Xnew`,`Ynew`).\n",
    "* Use cubic spline interpolation."
   ]
  },
  {
   "cell_type": "code",
   "execution_count": 10,
   "metadata": {
    "collapsed": false,
    "deletable": false,
    "nbgrader": {
     "checksum": "6cff4e8e53b15273846c3aecaea84a3d",
     "solution": true
    }
   },
   "outputs": [
    {
     "ename": "ValueError",
     "evalue": "The truth value of an array with more than one element is ambiguous. Use a.any() or a.all()",
     "output_type": "error",
     "traceback": [
      "\u001b[1;31m---------------------------------------------------------------------------\u001b[0m",
      "\u001b[1;31mValueError\u001b[0m                                Traceback (most recent call last)",
      "\u001b[1;32m<ipython-input-10-0dbf6b406fae>\u001b[0m in \u001b[0;36m<module>\u001b[1;34m()\u001b[0m\n\u001b[0;32m     13\u001b[0m \u001b[1;33m\u001b[0m\u001b[0m\n\u001b[0;32m     14\u001b[0m \u001b[0mXnew\u001b[0m\u001b[1;33m,\u001b[0m \u001b[0mYnew\u001b[0m \u001b[1;33m=\u001b[0m \u001b[0mnp\u001b[0m\u001b[1;33m.\u001b[0m\u001b[0mmeshgrid\u001b[0m\u001b[1;33m(\u001b[0m\u001b[0mxnew\u001b[0m\u001b[1;33m,\u001b[0m\u001b[0mynew\u001b[0m\u001b[1;33m)\u001b[0m\u001b[1;33m\u001b[0m\u001b[0m\n\u001b[1;32m---> 15\u001b[1;33m \u001b[0mFnew\u001b[0m\u001b[1;33m=\u001b[0m\u001b[0mF\u001b[0m\u001b[1;33m(\u001b[0m\u001b[0mXnew\u001b[0m\u001b[1;33m,\u001b[0m\u001b[0mYnew\u001b[0m\u001b[1;33m)\u001b[0m\u001b[1;33m\u001b[0m\u001b[0m\n\u001b[0m",
      "\u001b[1;32m<ipython-input-3-f74075e6eda8>\u001b[0m in \u001b[0;36mF\u001b[1;34m(x, y)\u001b[0m\n\u001b[0;32m      9\u001b[0m     \u001b[0mf\u001b[0m\u001b[1;33m=\u001b[0m\u001b[1;33m[\u001b[0m\u001b[1;33m]\u001b[0m\u001b[1;33m\u001b[0m\u001b[0m\n\u001b[0;32m     10\u001b[0m     \u001b[1;32mfor\u001b[0m \u001b[0mi\u001b[0m \u001b[1;32min\u001b[0m \u001b[0mrange\u001b[0m\u001b[1;33m(\u001b[0m\u001b[0mlen\u001b[0m\u001b[1;33m(\u001b[0m\u001b[0mx\u001b[0m\u001b[1;33m)\u001b[0m\u001b[1;33m)\u001b[0m\u001b[1;33m:\u001b[0m               \u001b[1;31m#Noah Miller helped me out with this part\u001b[0m\u001b[1;33m\u001b[0m\u001b[0m\n\u001b[1;32m---> 11\u001b[1;33m         \u001b[1;32mif\u001b[0m \u001b[0mabs\u001b[0m\u001b[1;33m(\u001b[0m\u001b[0mx\u001b[0m\u001b[1;33m[\u001b[0m\u001b[0mi\u001b[0m\u001b[1;33m]\u001b[0m\u001b[1;33m)\u001b[0m\u001b[1;33m==\u001b[0m\u001b[1;36m5\u001b[0m \u001b[1;32mor\u001b[0m \u001b[0mabs\u001b[0m\u001b[1;33m(\u001b[0m\u001b[0my\u001b[0m\u001b[1;33m[\u001b[0m\u001b[0mi\u001b[0m\u001b[1;33m]\u001b[0m\u001b[1;33m)\u001b[0m\u001b[1;33m==\u001b[0m\u001b[1;36m5\u001b[0m\u001b[1;33m:\u001b[0m\u001b[1;33m\u001b[0m\u001b[0m\n\u001b[0m\u001b[0;32m     12\u001b[0m             \u001b[0mf\u001b[0m\u001b[1;33m.\u001b[0m\u001b[0mappend\u001b[0m\u001b[1;33m(\u001b[0m\u001b[1;36m0\u001b[0m\u001b[1;33m)\u001b[0m\u001b[1;33m\u001b[0m\u001b[0m\n\u001b[0;32m     13\u001b[0m         \u001b[1;32melif\u001b[0m \u001b[0mx\u001b[0m\u001b[1;33m[\u001b[0m\u001b[0mi\u001b[0m\u001b[1;33m]\u001b[0m\u001b[1;33m==\u001b[0m\u001b[1;36m0\u001b[0m \u001b[1;32mand\u001b[0m \u001b[0my\u001b[0m\u001b[1;33m[\u001b[0m\u001b[0mi\u001b[0m\u001b[1;33m]\u001b[0m\u001b[1;33m==\u001b[0m\u001b[1;36m0\u001b[0m\u001b[1;33m:\u001b[0m\u001b[1;33m\u001b[0m\u001b[0m\n",
      "\u001b[1;31mValueError\u001b[0m: The truth value of an array with more than one element is ambiguous. Use a.any() or a.all()"
     ]
    }
   ],
   "source": [
    "\"\"\"points : ndarray of floats, shape (n, D)\n",
    "    Data point coordinates. Can either be an array of\n",
    "    shape (n, D), or a tuple of `ndim` arrays.\n",
    "values : ndarray of float or complex, shape (n,)\n",
    "    Data values.\n",
    "xi : ndarray of float, shape (M, D)\n",
    "    Points at which to interpolate data.\"\"\"\n",
    "#np.meshgrid?\n",
    "#griddata(points,values,xi,method='linear')\n",
    "\n",
    "xnew=np.linspace(-5,5,100)\n",
    "ynew=np.linspace(-5,5,100)\n",
    "\n",
    "Xnew, Ynew = np.meshgrid(xnew,ynew)\n",
    "Fnew=F(Xnew,Ynew)"
   ]
  },
  {
   "cell_type": "code",
   "execution_count": 11,
   "metadata": {
    "collapsed": false,
    "deletable": false,
    "nbgrader": {
     "checksum": "a2a1e372d0667fc7364da63c20457eba",
     "grade": true,
     "grade_id": "interpolationex02b",
     "points": 4
    }
   },
   "outputs": [],
   "source": [
    "assert xnew.shape==(100,)\n",
    "assert ynew.shape==(100,)\n",
    "assert Xnew.shape==(100,100)\n",
    "assert Ynew.shape==(100,100)\n",
    "assert Fnew.shape==(100,100)"
   ]
  },
  {
   "cell_type": "markdown",
   "metadata": {
    "nbgrader": {}
   },
   "source": [
    "Plot the values of the interpolated scalar field using a contour plot. Customize your plot to make it effective and beautiful."
   ]
  },
  {
   "cell_type": "code",
   "execution_count": 12,
   "metadata": {
    "collapsed": false,
    "deletable": false,
    "nbgrader": {
     "checksum": "6cff4e8e53b15273846c3aecaea84a3d",
     "solution": true
    }
   },
   "outputs": [
    {
     "data": {
      "image/png": "[encoded data removed]",
      "text/plain": [
       "<matplotlib.figure.Figure at 0x7f5a99449278>"
      ]
     },
     "metadata": {},
     "output_type": "display_data"
    }
   ],
   "source": [
    "plt.pcolor(Xnew, Ynew, Fnew);\n",
    "plt.colorbar();\n",
    "plt.scatter(Xnew, Ynew, marker='o', color='blue', label='interpolated points')\n",
    "plt.title('Interpolated Scalar Field')\n",
    "plt.xlabel('x')\n",
    "plt.ylabel('y');"
   ]
  },
  {
   "cell_type": "code",
   "execution_count": null,
   "metadata": {
    "collapsed": true,
    "deletable": false,
    "nbgrader": {
     "checksum": "940d9f4857e7e157183e052256bad4d5",
     "grade": true,
     "grade_id": "interpolationex02c",
     "points": 2
    }
   },
   "outputs": [],
   "source": [
    "assert True # leave this to grade the plot"
   ]
  }
 ],
 "metadata": {
  "kernelspec": {
   "display_name": "Python 3",
   "language": "python",
   "name": "python3"
  },
  "language_info": {
   "codemirror_mode": {
    "name": "ipython",
    "version": 3
   },
   "file_extension": ".py",
   "mimetype": "text/x-python",
   "name": "python",
   "nbconvert_exporter": "python",
   "pygments_lexer": "ipython3",
   "version": "3.4.0"
  }
 },
 "nbformat": 4,
 "nbformat_minor": 0
}
