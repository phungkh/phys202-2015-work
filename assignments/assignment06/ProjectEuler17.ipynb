{
 "cells": [
  {
   "cell_type": "markdown",
   "metadata": {
    "nbgrader": {}
   },
   "source": [
    "# Project Euler: Problem 17"
   ]
  },
  {
   "cell_type": "markdown",
   "metadata": {
    "nbgrader": {}
   },
   "source": [
    "https://projecteuler.net/problem=17\n",
    "\n",
    "If the numbers 1 to 5 are written out in words: one, two, three, four, five, then there are 3 + 3 + 5 + 4 + 4 = 19 letters used in total.\n",
    "\n",
    "If all the numbers from 1 to 1000 (one thousand) inclusive were written out in words, how many letters would be used?\n",
    "\n",
    "\n",
    "NOTE: Do not count spaces or hyphens. For example, 342 (three hundred and forty-two) contains 23 letters and 115 (one hundred and fifteen) contains 20 letters. The use of \"and\" when writing out numbers is in compliance with British usage."
   ]
  },
  {
   "cell_type": "markdown",
   "metadata": {
    "nbgrader": {}
   },
   "source": [
    "First write a `number_to_words(n)` function that takes an integer `n` between 1 and 1000 inclusive and returns a list of words for the number as described above"
   ]
  },
  {
   "cell_type": "code",
   "execution_count": 1,
   "metadata": {
    "collapsed": false,
    "nbgrader": {
     "checksum": "790b69a83b63d5a31b5fac1451dd3b54",
     "solution": true
    }
   },
   "outputs": [
    {
     "data": {
      "text/plain": [
       "'one hundred and forty-nine'"
      ]
     },
     "execution_count": 1,
     "metadata": {},
     "output_type": "execute_result"
    }
   ],
   "source": [
    "def number_to_words(n):\n",
    "    a={1:'one',2:'two',3:'three',4:'four',5:'five',6:'six',7:'seven',8:'eight',9:'nine',10:'ten',11:'eleven',12:'twelve',13:'thirteen',\n",
    "        14:'fourteen',15:'fifteen',16:'sixteen',17:'seventeen',18:'eighteen',19:'nineteen',20:'twenty',30:'thirty',40:'forty',\n",
    "        50:'fifty',60:'sixty',70:'seventy',80:'eighty',90:'ninety',100:'hundred'\n",
    "        }\n",
    "   \n",
    "    if n<=19:\n",
    "        return(a[n])\n",
    "        \n",
    "    elif n>=21 and n<=29:\n",
    "        b=str(n)                        # turn n into a string  \n",
    "        return(a[20]+\"-\"+a[int(b[1])]) #turn n back to a integer and take the 1st digit as the index in our dictionary\n",
    "        \n",
    "        \n",
    "    elif n>=31 and n<=39:\n",
    "        b=str(n)\n",
    "        return(a[30]+\"-\"+a[int(b[1])])\n",
    "        \n",
    "    \n",
    "    elif n>=41 and n<=49:\n",
    "        b=str(n)\n",
    "        return(a[40]+\"-\"+a[int(b[1])])\n",
    "    \n",
    "    elif n>=51 and n<=59:\n",
    "        b=str(n)\n",
    "        return(a[50]+\"-\"+a[int(b[1])])\n",
    "    \n",
    "    elif n>=61 and n<=69:\n",
    "        b=str(n)\n",
    "        return(a[60]+\"-\"+a[int(b[1])])\n",
    "    \n",
    "    elif n>=71 and n<=79:    \n",
    "        b=str(n)\n",
    "        return(a[70]+\"-\"+a[int(b[1])])\n",
    "    \n",
    "    elif n>=81 and n<=89:\n",
    "        b=str(n)\n",
    "        return(a[80]+\"-\"+a[int(b[1])])\n",
    "    \n",
    "    elif n>=91 and n<=99:\n",
    "        b=str(n)\n",
    "        return(a[90]+\"-\"+a[int(b[1])])\n",
    "    elif n==100:\n",
    "        return'one hundred'\n",
    "    elif n==200:\n",
    "        return'two hundred'\n",
    "    elif n==300:\n",
    "        return'three hundred'\n",
    "    elif n==400:\n",
    "        return'four hundred'\n",
    "    elif n==500:\n",
    "        return'five hundred'\n",
    "    elif n==600:\n",
    "        return'six hundred'\n",
    "    elif n==700:\n",
    "        return'seven hundred'\n",
    "    elif n==800:\n",
    "        return'eight hundred'\n",
    "    elif n==900:\n",
    "        return'nine hundred'\n",
    "    elif n==1000:\n",
    "        return'one thousand'\n",
    "    \n",
    "    elif n>=101:\n",
    "        b=str(n)            #if n=139, then b='139'\n",
    "                      # c is the last two digits, so in this case, = '39'\n",
    "        c=int(b[1:])\n",
    "        \n",
    "        return(a[int(b[0])]+\" \"+a[100]+\" \"+\"and\"+\" \"+number_to_words(c))\n",
    "    \n",
    "    else:\n",
    "        return(a[n])                        # for numbers like 20,30,40,50...\n",
    "        \n",
    "number_to_words(149)\n"
   ]
  },
  {
   "cell_type": "code",
   "execution_count": 2,
   "metadata": {
    "collapsed": true
   },
   "outputs": [],
   "source": [
    "Z = list(range(1,1001))\n",
    "X=[]\n",
    "for i in Z:\n",
    "    X.append(number_to_words(i))\n",
    "    \n",
    "\n",
    "    \n"
   ]
  },
  {
   "cell_type": "markdown",
   "metadata": {
    "nbgrader": {}
   },
   "source": [
    "Now write a set of `assert` tests for your `number_to_words` function that verifies that it is working as expected."
   ]
  },
  {
   "cell_type": "code",
   "execution_count": 3,
   "metadata": {
    "collapsed": false,
    "deletable": false,
    "nbgrader": {
     "checksum": "6cff4e8e53b15273846c3aecaea84a3d",
     "solution": true
    }
   },
   "outputs": [],
   "source": [
    "Z = list(range(1,1001))\n",
    "X=[]\n",
    "for i in Z:\n",
    "    X.append(number_to_words(i)) # LIST OF ALL THE WORDS!\n",
    "    \n",
    "assert number_to_words(10)=='ten'\n",
    "assert number_to_words(55)=='fifty-five'\n",
    "assert number_to_words(99)=='ninety-nine'\n",
    "assert number_to_words(155)=='one hundred and fifty-five'\n",
    "assert number_to_words(777)=='seven hundred and seventy-seven'\n",
    "    \n"
   ]
  },
  {
   "cell_type": "code",
   "execution_count": 4,
   "metadata": {
    "collapsed": true,
    "deletable": false,
    "nbgrader": {
     "checksum": "2c71c0f9dbe2a57b1ddc17bf544d86ed",
     "grade": true,
     "grade_id": "projecteuler17a",
     "points": 4
    }
   },
   "outputs": [],
   "source": [
    "assert True # use this for grading the number_to_words tests."
   ]
  },
  {
   "cell_type": "markdown",
   "metadata": {
    "nbgrader": {}
   },
   "source": [
    "Now define a `count_letters(n)` that returns the number of letters used to write out the words for all of the the numbers `1` to `n` inclusive."
   ]
  },
  {
   "cell_type": "code",
   "execution_count": 5,
   "metadata": {
    "collapsed": false,
    "nbgrader": {
     "checksum": "be228a805b41eda2b30887a53523f76b",
     "solution": true
    }
   },
   "outputs": [],
   "source": [
    "def count_letters(n):\n",
    "    \"\"\"Count the number of letters used to write out the words for 1-n inclusive.\"\"\"\n",
    "    number_of_characters= ' '.join(number_to_words(x) for x in range(1,n+1))\n",
    "    count=0\n",
    "    for i in number_of_characters:\n",
    "        if i !='-'and i !=' ':\n",
    "            count+=1\n",
    "    return count\n",
    "        \n",
    "\n",
    "    \n",
    "    "
   ]
  },
  {
   "cell_type": "markdown",
   "metadata": {
    "nbgrader": {}
   },
   "source": [
    "Now write a set of `assert` tests for your `count_letters` function that verifies that it is working as expected."
   ]
  },
  {
   "cell_type": "code",
   "execution_count": 6,
   "metadata": {
    "collapsed": false,
    "deletable": false,
    "nbgrader": {
     "checksum": "6cff4e8e53b15273846c3aecaea84a3d",
     "solution": true
    }
   },
   "outputs": [
    {
     "data": {
      "text/plain": [
       "True"
      ]
     },
     "execution_count": 6,
     "metadata": {},
     "output_type": "execute_result"
    }
   ],
   "source": [
    "count_letters(1)==3\n",
    "count_letters(5)==19"
   ]
  },
  {
   "cell_type": "code",
   "execution_count": 7,
   "metadata": {
    "collapsed": true,
    "deletable": false,
    "nbgrader": {
     "checksum": "3a06c9610681f0174008f2976e310e0a",
     "grade": true,
     "grade_id": "projecteuler17b",
     "points": 4
    }
   },
   "outputs": [],
   "source": [
    "assert True # use this for grading the count_letters tests."
   ]
  },
  {
   "cell_type": "markdown",
   "metadata": {
    "nbgrader": {}
   },
   "source": [
    "Finally used your `count_letters` function to solve the original question."
   ]
  },
  {
   "cell_type": "code",
   "execution_count": 8,
   "metadata": {
    "collapsed": false,
    "deletable": false,
    "nbgrader": {
     "checksum": "6cff4e8e53b15273846c3aecaea84a3d",
     "solution": true
    }
   },
   "outputs": [
    {
     "name": "stdout",
     "output_type": "stream",
     "text": [
      "21124\n"
     ]
    }
   ],
   "source": [
    "print(count_letters(1000))"
   ]
  },
  {
   "cell_type": "code",
   "execution_count": null,
   "metadata": {
    "collapsed": true,
    "deletable": false,
    "nbgrader": {
     "checksum": "a136658e13c4f1154caf307a2e852f99",
     "grade": true,
     "grade_id": "projecteuler17c",
     "points": 2
    }
   },
   "outputs": [],
   "source": [
    "assert True # use this for gradig the answer to the original question."
   ]
  }
 ],
 "metadata": {
  "kernelspec": {
   "display_name": "Python 3",
   "language": "python",
   "name": "python3"
  },
  "language_info": {
   "codemirror_mode": {
    "name": "ipython",
    "version": 3
   },
   "file_extension": ".py",
   "mimetype": "text/x-python",
   "name": "python",
   "nbconvert_exporter": "python",
   "pygments_lexer": "ipython3",
   "version": "3.4.0"
  }
 },
 "nbformat": 4,
 "nbformat_minor": 0
}
