{
 "cells": [
  {
   "cell_type": "markdown",
   "metadata": {
    "nbgrader": {}
   },
   "source": [
    "# Project Euler: Problem 52"
   ]
  },
  {
   "cell_type": "markdown",
   "metadata": {
    "nbgrader": {}
   },
   "source": [
    "https://projecteuler.net/problem=52\n",
    "\n",
    "It can be seen that the number, $125874$, and its double, $251748$, contain exactly the same digits, but in a different order.\n",
    "\n",
    "Find the smallest positive integer, $x$, such that $2x$, $3x$, $4x$, $5x$, and $6x$, contain the same digits."
   ]
  },
  {
   "cell_type": "markdown",
   "metadata": {
    "nbgrader": {}
   },
   "source": [
    "First, write a function `same_digits(x,y)` that returns `True` if two integers `x` and `y` have the exact same set of digits and multiplicities and `False` if they have different digits."
   ]
  },
  {
   "cell_type": "code",
   "execution_count": 60,
   "metadata": {
    "collapsed": false,
    "nbgrader": {
     "checksum": "aad5ed41801af39fc06f00c8d275a010",
     "solution": true
    }
   },
   "outputs": [],
   "source": [
    "def same_digits(x, y):\n",
    "    \"\"\"Do the integers x and y have the same digits, regardless of order.\"\"\"\n",
    "    x=str(x)\n",
    "    y=str(y)             #turn the inputs into string\n",
    "    b=[]                \n",
    "    k=[]\n",
    "    for i in range(len(x)):       # add each individual digit as elements into our empty lists\n",
    "        b.append(x[i])\n",
    "    for i in range(len(y)):\n",
    "        k.append(y[i])\n",
    "    if len(b) != len(k):         # ensures that both x and y inputs have the same lengths\n",
    "        return False\n",
    "    else:\n",
    "        for q in range(len(b)):       # for each element in list b\n",
    "            for w in range(len(k)):\n",
    "                if q==k[w]:           # if that element is equal to the one in k...\n",
    "                    return True\n",
    "                else:\n",
    "                    return False\n",
    "        \n",
    "            \n",
    "            "
   ]
  },
  {
   "cell_type": "code",
   "execution_count": null,
   "metadata": {
    "collapsed": false
   },
   "outputs": [],
   "source": []
  },
  {
   "cell_type": "code",
   "execution_count": 61,
   "metadata": {
    "collapsed": false,
    "deletable": false,
    "nbgrader": {
     "checksum": "dd0aff5d565bc794cee175aaa6c0cb3d",
     "grade": true,
     "grade_id": "projecteuler52a",
     "points": 4
    }
   },
   "outputs": [
    {
     "ename": "AssertionError",
     "evalue": "",
     "output_type": "error",
     "traceback": [
      "\u001b[1;31m---------------------------------------------------------------------------\u001b[0m",
      "\u001b[1;31mAssertionError\u001b[0m                            Traceback (most recent call last)",
      "\u001b[1;32m<ipython-input-61-4d2369f19b4d>\u001b[0m in \u001b[0;36m<module>\u001b[1;34m()\u001b[0m\n\u001b[1;32m----> 1\u001b[1;33m \u001b[1;32massert\u001b[0m \u001b[0msame_digits\u001b[0m\u001b[1;33m(\u001b[0m\u001b[1;34m'132'\u001b[0m\u001b[1;33m,\u001b[0m \u001b[1;34m'321'\u001b[0m\u001b[1;33m)\u001b[0m\u001b[1;33m\u001b[0m\u001b[0m\n\u001b[0m\u001b[0;32m      2\u001b[0m \u001b[1;32massert\u001b[0m \u001b[1;32mnot\u001b[0m \u001b[0msame_digits\u001b[0m\u001b[1;33m(\u001b[0m\u001b[1;34m'123'\u001b[0m\u001b[1;33m,\u001b[0m \u001b[1;34m'3'\u001b[0m\u001b[1;33m)\u001b[0m\u001b[1;33m\u001b[0m\u001b[0m\n\u001b[0;32m      3\u001b[0m \u001b[1;32massert\u001b[0m \u001b[1;32mnot\u001b[0m \u001b[0msame_digits\u001b[0m\u001b[1;33m(\u001b[0m\u001b[1;34m'456'\u001b[0m\u001b[1;33m,\u001b[0m \u001b[1;34m'0987654321'\u001b[0m\u001b[1;33m)\u001b[0m\u001b[1;33m\u001b[0m\u001b[0m\n",
      "\u001b[1;31mAssertionError\u001b[0m: "
     ]
    }
   ],
   "source": [
    "assert same_digits('132', '321')\n",
    "assert not same_digits('123', '3')\n",
    "assert not same_digits('456', '0987654321')"
   ]
  },
  {
   "cell_type": "markdown",
   "metadata": {
    "nbgrader": {}
   },
   "source": [
    "Now use the `same_digits` function to solve this Euler problem. As you work on this problem, be careful to debug and test your code on small integers before trying it on the full search."
   ]
  },
  {
   "cell_type": "code",
   "execution_count": null,
   "metadata": {
    "collapsed": false,
    "deletable": false,
    "nbgrader": {
     "checksum": "6cff4e8e53b15273846c3aecaea84a3d",
     "solution": true
    }
   },
   "outputs": [],
   "source": [
    "# YOUR CODE HERE\n",
    "raise NotImplementedError()"
   ]
  },
  {
   "cell_type": "code",
   "execution_count": null,
   "metadata": {
    "collapsed": true,
    "deletable": false,
    "nbgrader": {
     "checksum": "dafbda681e8fb50925790dc1d0600750",
     "grade": true,
     "grade_id": "projecteuler52b",
     "points": 6
    }
   },
   "outputs": [],
   "source": [
    "assert True # leave this cell to grade the solution"
   ]
  }
 ],
 "metadata": {
  "kernelspec": {
   "display_name": "Python 3",
   "language": "python",
   "name": "python3"
  },
  "language_info": {
   "codemirror_mode": {
    "name": "ipython",
    "version": 3
   },
   "file_extension": ".py",
   "mimetype": "text/x-python",
   "name": "python",
   "nbconvert_exporter": "python",
   "pygments_lexer": "ipython3",
   "version": "3.4.0"
  }
 },
 "nbformat": 4,
 "nbformat_minor": 0
}
