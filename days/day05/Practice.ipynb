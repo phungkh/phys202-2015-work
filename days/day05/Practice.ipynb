{
 "cells": [
  {
   "cell_type": "code",
   "execution_count": 1,
   "metadata": {
    "collapsed": false
   },
   "outputs": [],
   "source": [
    " %matplotlib inline\n",
    "from matplotlib import pyplot as plt\n",
    "import seaborn as sns\n",
    "    "
   ]
  },
  {
   "cell_type": "code",
   "execution_count": 2,
   "metadata": {
    "collapsed": false
   },
   "outputs": [
    {
     "name": "stdout",
     "output_type": "stream",
     "text": [
      "Downloading:  https://raw.githubusercontent.com/ellisonbg/misc/master/vizarray.py\n",
      "Using existing version:  github.ellisonbg.misc.vizarray\n"
     ]
    }
   ],
   "source": [
    "import antipackage\n",
    "from github.ellisonbg.misc import vizarray as va\n"
   ]
  },
  {
   "cell_type": "code",
   "execution_count": 3,
   "metadata": {
    "collapsed": true
   },
   "outputs": [],
   "source": [
    "import numpy as np"
   ]
  },
  {
   "cell_type": "code",
   "execution_count": 4,
   "metadata": {
    "collapsed": false
   },
   "outputs": [],
   "source": [
    "data = [0,2,4,6]\n",
    "a = np.array(data)"
   ]
  },
  {
   "cell_type": "code",
   "execution_count": 5,
   "metadata": {
    "collapsed": false
   },
   "outputs": [
    {
     "data": {
      "text/plain": [
       "numpy.ndarray"
      ]
     },
     "execution_count": 5,
     "metadata": {},
     "output_type": "execute_result"
    }
   ],
   "source": [
    "type(a)"
   ]
  },
  {
   "cell_type": "code",
   "execution_count": 6,
   "metadata": {
    "collapsed": false
   },
   "outputs": [
    {
     "data": {
      "text/plain": [
       "array([0, 2, 4, 6])"
      ]
     },
     "execution_count": 6,
     "metadata": {},
     "output_type": "execute_result"
    }
   ],
   "source": [
    "a"
   ]
  },
  {
   "cell_type": "code",
   "execution_count": 7,
   "metadata": {
    "collapsed": false
   },
   "outputs": [
    {
     "data": {
      "text/html": [
       "<style type=\"text/css\">table.blockgrid {border: none;} .blockgrid tr {border: none;} .blockgrid td {padding: 0px;} #blocks8a31d279-87c1-4668-92ad-500f26c9044f td {border: 1px solid white;}</style><table id=\"blocks8a31d279-87c1-4668-92ad-500f26c9044f\" class=\"blockgrid\"><tbody><tr><td title=\"Index: [0, 0]&#10;Color: (247, 251, 255)\" style=\"width: 30px; height: 30px;background-color: rgb(247, 251, 255);\"></td><td title=\"Index: [0, 1]&#10;Color: (171, 208, 230)\" style=\"width: 30px; height: 30px;background-color: rgb(171, 208, 230);\"></td><td title=\"Index: [0, 2]&#10;Color: (55, 135, 192)\" style=\"width: 30px; height: 30px;background-color: rgb(55, 135, 192);\"></td><td title=\"Index: [0, 3]&#10;Color: (8, 48, 107)\" style=\"width: 30px; height: 30px;background-color: rgb(8, 48, 107);\"></td></tr></tbody></table>"
      ],
      "text/plain": [
       "<ipythonblocks.ipythonblocks.BlockGrid at 0x7f731d899410>"
      ]
     },
     "execution_count": 7,
     "metadata": {},
     "output_type": "execute_result"
    }
   ],
   "source": [
    "va.vizarray(a)"
   ]
  },
  {
   "cell_type": "code",
   "execution_count": 8,
   "metadata": {
    "collapsed": false
   },
   "outputs": [
    {
     "data": {
      "text/plain": [
       "(4,)"
      ]
     },
     "execution_count": 8,
     "metadata": {},
     "output_type": "execute_result"
    }
   ],
   "source": [
    "a.shape"
   ]
  },
  {
   "cell_type": "markdown",
   "metadata": {},
   "source": []
  },
  {
   "cell_type": "code",
   "execution_count": 9,
   "metadata": {
    "collapsed": false
   },
   "outputs": [
    {
     "data": {
      "text/plain": [
       "1"
      ]
     },
     "execution_count": 9,
     "metadata": {},
     "output_type": "execute_result"
    }
   ],
   "source": [
    "a.ndim"
   ]
  },
  {
   "cell_type": "code",
   "execution_count": 10,
   "metadata": {
    "collapsed": false
   },
   "outputs": [
    {
     "data": {
      "text/plain": [
       "4"
      ]
     },
     "execution_count": 10,
     "metadata": {},
     "output_type": "execute_result"
    }
   ],
   "source": [
    "a.size"
   ]
  },
  {
   "cell_type": "code",
   "execution_count": 11,
   "metadata": {
    "collapsed": false
   },
   "outputs": [
    {
     "data": {
      "text/plain": [
       "32"
      ]
     },
     "execution_count": 11,
     "metadata": {},
     "output_type": "execute_result"
    }
   ],
   "source": [
    "a.nbytes"
   ]
  },
  {
   "cell_type": "code",
   "execution_count": 12,
   "metadata": {
    "collapsed": false
   },
   "outputs": [
    {
     "data": {
      "text/plain": [
       "dtype('int64')"
      ]
     },
     "execution_count": 12,
     "metadata": {},
     "output_type": "execute_result"
    }
   ],
   "source": [
    "a.dtype"
   ]
  },
  {
   "cell_type": "code",
   "execution_count": 14,
   "metadata": {
    "collapsed": true
   },
   "outputs": [],
   "source": [
    "data = [[0.0,2.0,4.0,6.0],[1.0,3.0,5.0,7.0]]\n",
    "b=np.array(data)"
   ]
  },
  {
   "cell_type": "code",
   "execution_count": 15,
   "metadata": {
    "collapsed": false
   },
   "outputs": [
    {
     "data": {
      "text/plain": [
       "array([[ 0.,  2.,  4.,  6.],\n",
       "       [ 1.,  3.,  5.,  7.]])"
      ]
     },
     "execution_count": 15,
     "metadata": {},
     "output_type": "execute_result"
    }
   ],
   "source": [
    "b"
   ]
  },
  {
   "cell_type": "code",
   "execution_count": 16,
   "metadata": {
    "collapsed": false
   },
   "outputs": [
    {
     "data": {
      "text/html": [
       "<style type=\"text/css\">table.blockgrid {border: none;} .blockgrid tr {border: none;} .blockgrid td {padding: 0px;} #blocks8d93f139-e6d4-42fd-80fe-ecba95d59912 td {border: 1px solid white;}</style><table id=\"blocks8d93f139-e6d4-42fd-80fe-ecba95d59912\" class=\"blockgrid\"><tbody><tr><td title=\"Index: [0, 0]&#10;Color: (247, 251, 255)\" style=\"width: 30px; height: 30px;background-color: rgb(247, 251, 255);\"></td><td title=\"Index: [0, 1]&#10;Color: (186, 214, 235)\" style=\"width: 30px; height: 30px;background-color: rgb(186, 214, 235);\"></td><td title=\"Index: [0, 2]&#10;Color: (83, 158, 205)\" style=\"width: 30px; height: 30px;background-color: rgb(83, 158, 205);\"></td><td title=\"Index: [0, 3]&#10;Color: (11, 85, 159)\" style=\"width: 30px; height: 30px;background-color: rgb(11, 85, 159);\"></td></tr><tr><td title=\"Index: [1, 0]&#10;Color: (219, 233, 246)\" style=\"width: 30px; height: 30px;background-color: rgb(219, 233, 246);\"></td><td title=\"Index: [1, 1]&#10;Color: (137, 190, 220)\" style=\"width: 30px; height: 30px;background-color: rgb(137, 190, 220);\"></td><td title=\"Index: [1, 2]&#10;Color: (43, 123, 186)\" style=\"width: 30px; height: 30px;background-color: rgb(43, 123, 186);\"></td><td title=\"Index: [1, 3]&#10;Color: (8, 48, 107)\" style=\"width: 30px; height: 30px;background-color: rgb(8, 48, 107);\"></td></tr></tbody></table>"
      ],
      "text/plain": [
       "<ipythonblocks.ipythonblocks.BlockGrid at 0x7f731d899690>"
      ]
     },
     "execution_count": 16,
     "metadata": {},
     "output_type": "execute_result"
    }
   ],
   "source": [
    "va.vizarray(b)\n"
   ]
  },
  {
   "cell_type": "code",
   "execution_count": 17,
   "metadata": {
    "collapsed": false
   },
   "outputs": [
    {
     "data": {
      "text/plain": [
       "((2, 4), 2, 8, 64)"
      ]
     },
     "execution_count": 17,
     "metadata": {},
     "output_type": "execute_result"
    }
   ],
   "source": [
    "b.shape, b.ndim, b.size, b.nbytes\n"
   ]
  },
  {
   "cell_type": "code",
   "execution_count": 18,
   "metadata": {
    "collapsed": false
   },
   "outputs": [
    {
     "data": {
      "text/plain": [
       "array([ 0.,  1.,  2.,  3.,  4.,  5.,  6.,  7.,  8.,  9.])"
      ]
     },
     "execution_count": 18,
     "metadata": {},
     "output_type": "execute_result"
    }
   ],
   "source": [
    "c = np.arange(0.0,10.0,1.0)\n",
    "c"
   ]
  },
  {
   "cell_type": "code",
   "execution_count": 20,
   "metadata": {
    "collapsed": false
   },
   "outputs": [
    {
     "data": {
      "text/plain": [
       "array([ 0. ,  0.5,  1. ,  1.5,  2. ,  2.5,  3. ,  3.5,  4. ,  4.5,  5. ])"
      ]
     },
     "execution_count": 20,
     "metadata": {},
     "output_type": "execute_result"
    }
   ],
   "source": [
    "e = np.linspace(0.0,5.0,11)\n",
    "e\n"
   ]
  },
  {
   "cell_type": "code",
   "execution_count": 21,
   "metadata": {
    "collapsed": false
   },
   "outputs": [
    {
     "data": {
      "text/plain": [
       "array([[  6.92349845e-310,   2.52948093e-316,   6.92349866e-310,\n",
       "          6.92346016e-310],\n",
       "       [  6.92349861e-310,   6.92346016e-310,   6.92349866e-310,\n",
       "          6.92346016e-310],\n",
       "       [  6.92349861e-310,   6.92346016e-310,   6.92349866e-310,\n",
       "          6.92346016e-310],\n",
       "       [  6.92349861e-310,   6.92346015e-310,   6.92349866e-310,\n",
       "          6.92346016e-310]])"
      ]
     },
     "execution_count": 21,
     "metadata": {},
     "output_type": "execute_result"
    }
   ],
   "source": [
    "np.empty((4,4))"
   ]
  },
  {
   "cell_type": "code",
   "execution_count": 22,
   "metadata": {
    "collapsed": false
   },
   "outputs": [
    {
     "data": {
      "text/plain": [
       "array([[ 0.,  0.,  0.],\n",
       "       [ 0.,  0.,  0.],\n",
       "       [ 0.,  0.,  0.]])"
      ]
     },
     "execution_count": 22,
     "metadata": {},
     "output_type": "execute_result"
    }
   ],
   "source": [
    "np.zeros((3,3))"
   ]
  },
  {
   "cell_type": "code",
   "execution_count": 23,
   "metadata": {
    "collapsed": false
   },
   "outputs": [
    {
     "data": {
      "text/plain": [
       "array([[ 1.,  1.,  1.],\n",
       "       [ 1.,  1.,  1.],\n",
       "       [ 1.,  1.,  1.]])"
      ]
     },
     "execution_count": 23,
     "metadata": {},
     "output_type": "execute_result"
    }
   ],
   "source": [
    "np.ones((3,3\n",
    "))"
   ]
  },
  {
   "cell_type": "code",
   "execution_count": 25,
   "metadata": {
    "collapsed": false
   },
   "outputs": [],
   "source": [
    "a = np.array([0,1,2,3])"
   ]
  },
  {
   "cell_type": "code",
   "execution_count": 26,
   "metadata": {
    "collapsed": false
   },
   "outputs": [
    {
     "data": {
      "text/plain": [
       "(array([0, 1, 2, 3]), dtype('int64'))"
      ]
     },
     "execution_count": 26,
     "metadata": {},
     "output_type": "execute_result"
    }
   ],
   "source": [
    "a, a.dtype"
   ]
  },
  {
   "cell_type": "code",
   "execution_count": 29,
   "metadata": {
    "collapsed": false
   },
   "outputs": [
    {
     "data": {
      "text/plain": [
       "array([[ 0.+0.j,  0.+0.j],\n",
       "       [ 0.+0.j,  0.+0.j]], dtype=complex64)"
      ]
     },
     "execution_count": 29,
     "metadata": {},
     "output_type": "execute_result"
    }
   ],
   "source": [
    "b = np.zeros((2,2), dtype=np.complex64)\n",
    "b"
   ]
  },
  {
   "cell_type": "code",
   "execution_count": 30,
   "metadata": {
    "collapsed": false
   },
   "outputs": [
    {
     "data": {
      "text/plain": [
       "array([ 0.,  2.,  4.,  6.,  8.])"
      ]
     },
     "execution_count": 30,
     "metadata": {},
     "output_type": "execute_result"
    }
   ],
   "source": [
    "c = np.arange(0,10,2,dtype=np.float)\n",
    "c"
   ]
  },
  {
   "cell_type": "code",
   "execution_count": 31,
   "metadata": {
    "collapsed": false
   },
   "outputs": [
    {
     "data": {
      "text/plain": [
       "array([0, 2, 4, 6, 8])"
      ]
     },
     "execution_count": 31,
     "metadata": {},
     "output_type": "execute_result"
    }
   ],
   "source": [
    "d=c.astype(dtype=np.int)\n",
    "d"
   ]
  },
  {
   "cell_type": "code",
   "execution_count": 32,
   "metadata": {
    "collapsed": true
   },
   "outputs": [],
   "source": [
    "np.float*?"
   ]
  },
  {
   "cell_type": "code",
   "execution_count": 35,
   "metadata": {
    "collapsed": false
   },
   "outputs": [
    {
     "data": {
      "text/plain": [
       "array([[ 0.1,  0.1,  0.1],\n",
       "       [ 0.1,  0.1,  0.1],\n",
       "       [ 0.1,  0.1,  0.1]])"
      ]
     },
     "execution_count": 35,
     "metadata": {},
     "output_type": "execute_result"
    }
   ],
   "source": [
    "a = np.empty((3,3))\n",
    "a.fill(0.1)\n",
    "a"
   ]
  },
  {
   "cell_type": "code",
   "execution_count": 36,
   "metadata": {
    "collapsed": false
   },
   "outputs": [
    {
     "data": {
      "text/plain": [
       "array([[ 1.,  1.,  1.],\n",
       "       [ 1.,  1.,  1.],\n",
       "       [ 1.,  1.,  1.]])"
      ]
     },
     "execution_count": 36,
     "metadata": {},
     "output_type": "execute_result"
    }
   ],
   "source": [
    "b = np.ones((3,3))\n",
    "b"
   ]
  },
  {
   "cell_type": "code",
   "execution_count": 34,
   "metadata": {
    "collapsed": false
   },
   "outputs": [
    {
     "ename": "ValueError",
     "evalue": "operands could not be broadcast together with shapes (4,) (2,2) ",
     "output_type": "error",
     "traceback": [
      "\u001b[1;31m---------------------------------------------------------------------------\u001b[0m",
      "\u001b[1;31mValueError\u001b[0m                                Traceback (most recent call last)",
      "\u001b[1;32m<ipython-input-34-f1d53b280433>\u001b[0m in \u001b[0;36m<module>\u001b[1;34m()\u001b[0m\n\u001b[1;32m----> 1\u001b[1;33m \u001b[0ma\u001b[0m\u001b[1;33m+\u001b[0m\u001b[0mb\u001b[0m\u001b[1;33m\u001b[0m\u001b[0m\n\u001b[0m",
      "\u001b[1;31mValueError\u001b[0m: operands could not be broadcast together with shapes (4,) (2,2) "
     ]
    }
   ],
   "source": [
    "a+b"
   ]
  },
  {
   "cell_type": "code",
   "execution_count": 37,
   "metadata": {
    "collapsed": false
   },
   "outputs": [
    {
     "data": {
      "text/plain": [
       "array([[ 10.,  10.,  10.],\n",
       "       [ 10.,  10.,  10.],\n",
       "       [ 10.,  10.,  10.]])"
      ]
     },
     "execution_count": 37,
     "metadata": {},
     "output_type": "execute_result"
    }
   ],
   "source": [
    "b/a"
   ]
  },
  {
   "cell_type": "code",
   "execution_count": 38,
   "metadata": {
    "collapsed": false
   },
   "outputs": [
    {
     "data": {
      "text/plain": [
       "array([[ 0.01,  0.01,  0.01],\n",
       "       [ 0.01,  0.01,  0.01],\n",
       "       [ 0.01,  0.01,  0.01]])"
      ]
     },
     "execution_count": 38,
     "metadata": {},
     "output_type": "execute_result"
    }
   ],
   "source": [
    "a**2"
   ]
  },
  {
   "cell_type": "code",
   "execution_count": 39,
   "metadata": {
    "collapsed": false
   },
   "outputs": [
    {
     "data": {
      "text/plain": [
       "array([[ 3.14159265,  3.14159265,  3.14159265],\n",
       "       [ 3.14159265,  3.14159265,  3.14159265],\n",
       "       [ 3.14159265,  3.14159265,  3.14159265]])"
      ]
     },
     "execution_count": 39,
     "metadata": {},
     "output_type": "execute_result"
    }
   ],
   "source": [
    "np.pi*b"
   ]
  },
  {
   "cell_type": "code",
   "execution_count": 45,
   "metadata": {
    "collapsed": true
   },
   "outputs": [],
   "source": [
    "a= np.random.rand(10,10)"
   ]
  },
  {
   "cell_type": "code",
   "execution_count": 46,
   "metadata": {
    "collapsed": true
   },
   "outputs": [],
   "source": [
    "va.enable()"
   ]
  },
  {
   "cell_type": "code",
   "execution_count": 47,
   "metadata": {
    "collapsed": false
   },
   "outputs": [
    {
     "data": {
      "text/html": [
       "<style type=\"text/css\">table.blockgrid {border: none;} .blockgrid tr {border: none;} .blockgrid td {padding: 0px;} #blocks4e9b33da-bd50-4aff-aaf1-e3622eaf75b1 td {border: 1px solid white;}</style><table id=\"blocks4e9b33da-bd50-4aff-aaf1-e3622eaf75b1\" class=\"blockgrid\"><tbody><tr><td title=\"Index: [0, 0]&#10;Color: (173, 208, 230)\" style=\"width: 30px; height: 30px;background-color: rgb(173, 208, 230);\"></td><td title=\"Index: [0, 1]&#10;Color: (59, 139, 194)\" style=\"width: 30px; height: 30px;background-color: rgb(59, 139, 194);\"></td><td title=\"Index: [0, 2]&#10;Color: (60, 140, 195)\" style=\"width: 30px; height: 30px;background-color: rgb(60, 140, 195);\"></td><td title=\"Index: [0, 3]&#10;Color: (39, 119, 184)\" style=\"width: 30px; height: 30px;background-color: rgb(39, 119, 184);\"></td><td title=\"Index: [0, 4]&#10;Color: (39, 119, 184)\" style=\"width: 30px; height: 30px;background-color: rgb(39, 119, 184);\"></td><td title=\"Index: [0, 5]&#10;Color: (179, 211, 232)\" style=\"width: 30px; height: 30px;background-color: rgb(179, 211, 232);\"></td><td title=\"Index: [0, 6]&#10;Color: (240, 246, 253)\" style=\"width: 30px; height: 30px;background-color: rgb(240, 246, 253);\"></td><td title=\"Index: [0, 7]&#10;Color: (157, 202, 225)\" style=\"width: 30px; height: 30px;background-color: rgb(157, 202, 225);\"></td><td title=\"Index: [0, 8]&#10;Color: (8, 64, 130)\" style=\"width: 30px; height: 30px;background-color: rgb(8, 64, 130);\"></td><td title=\"Index: [0, 9]&#10;Color: (204, 223, 241)\" style=\"width: 30px; height: 30px;background-color: rgb(204, 223, 241);\"></td></tr><tr><td title=\"Index: [1, 0]&#10;Color: (175, 209, 231)\" style=\"width: 30px; height: 30px;background-color: rgb(175, 209, 231);\"></td><td title=\"Index: [1, 1]&#10;Color: (201, 221, 240)\" style=\"width: 30px; height: 30px;background-color: rgb(201, 221, 240);\"></td><td title=\"Index: [1, 2]&#10;Color: (64, 144, 197)\" style=\"width: 30px; height: 30px;background-color: rgb(64, 144, 197);\"></td><td title=\"Index: [1, 3]&#10;Color: (229, 239, 249)\" style=\"width: 30px; height: 30px;background-color: rgb(229, 239, 249);\"></td><td title=\"Index: [1, 4]&#10;Color: (129, 186, 219)\" style=\"width: 30px; height: 30px;background-color: rgb(129, 186, 219);\"></td><td title=\"Index: [1, 5]&#10;Color: (29, 108, 177)\" style=\"width: 30px; height: 30px;background-color: rgb(29, 108, 177);\"></td><td title=\"Index: [1, 6]&#10;Color: (247, 251, 255)\" style=\"width: 30px; height: 30px;background-color: rgb(247, 251, 255);\"></td><td title=\"Index: [1, 7]&#10;Color: (54, 134, 192)\" style=\"width: 30px; height: 30px;background-color: rgb(54, 134, 192);\"></td><td title=\"Index: [1, 8]&#10;Color: (211, 228, 243)\" style=\"width: 30px; height: 30px;background-color: rgb(211, 228, 243);\"></td><td title=\"Index: [1, 9]&#10;Color: (18, 93, 166)\" style=\"width: 30px; height: 30px;background-color: rgb(18, 93, 166);\"></td></tr><tr><td title=\"Index: [2, 0]&#10;Color: (217, 232, 245)\" style=\"width: 30px; height: 30px;background-color: rgb(217, 232, 245);\"></td><td title=\"Index: [2, 1]&#10;Color: (186, 214, 235)\" style=\"width: 30px; height: 30px;background-color: rgb(186, 214, 235);\"></td><td title=\"Index: [2, 2]&#10;Color: (14, 89, 162)\" style=\"width: 30px; height: 30px;background-color: rgb(14, 89, 162);\"></td><td title=\"Index: [2, 3]&#10;Color: (72, 150, 200)\" style=\"width: 30px; height: 30px;background-color: rgb(72, 150, 200);\"></td><td title=\"Index: [2, 4]&#10;Color: (38, 118, 184)\" style=\"width: 30px; height: 30px;background-color: rgb(38, 118, 184);\"></td><td title=\"Index: [2, 5]&#10;Color: (209, 226, 243)\" style=\"width: 30px; height: 30px;background-color: rgb(209, 226, 243);\"></td><td title=\"Index: [2, 6]&#10;Color: (47, 127, 188)\" style=\"width: 30px; height: 30px;background-color: rgb(47, 127, 188);\"></td><td title=\"Index: [2, 7]&#10;Color: (242, 248, 253)\" style=\"width: 30px; height: 30px;background-color: rgb(242, 248, 253);\"></td><td title=\"Index: [2, 8]&#10;Color: (57, 137, 193)\" style=\"width: 30px; height: 30px;background-color: rgb(57, 137, 193);\"></td><td title=\"Index: [2, 9]&#10;Color: (81, 156, 204)\" style=\"width: 30px; height: 30px;background-color: rgb(81, 156, 204);\"></td></tr><tr><td title=\"Index: [3, 0]&#10;Color: (17, 92, 165)\" style=\"width: 30px; height: 30px;background-color: rgb(17, 92, 165);\"></td><td title=\"Index: [3, 1]&#10;Color: (21, 98, 169)\" style=\"width: 30px; height: 30px;background-color: rgb(21, 98, 169);\"></td><td title=\"Index: [3, 2]&#10;Color: (159, 202, 225)\" style=\"width: 30px; height: 30px;background-color: rgb(159, 202, 225);\"></td><td title=\"Index: [3, 3]&#10;Color: (30, 109, 178)\" style=\"width: 30px; height: 30px;background-color: rgb(30, 109, 178);\"></td><td title=\"Index: [3, 4]&#10;Color: (184, 213, 234)\" style=\"width: 30px; height: 30px;background-color: rgb(184, 213, 234);\"></td><td title=\"Index: [3, 5]&#10;Color: (41, 121, 185)\" style=\"width: 30px; height: 30px;background-color: rgb(41, 121, 185);\"></td><td title=\"Index: [3, 6]&#10;Color: (179, 211, 232)\" style=\"width: 30px; height: 30px;background-color: rgb(179, 211, 232);\"></td><td title=\"Index: [3, 7]&#10;Color: (175, 209, 231)\" style=\"width: 30px; height: 30px;background-color: rgb(175, 209, 231);\"></td><td title=\"Index: [3, 8]&#10;Color: (63, 143, 197)\" style=\"width: 30px; height: 30px;background-color: rgb(63, 143, 197);\"></td><td title=\"Index: [3, 9]&#10;Color: (86, 160, 206)\" style=\"width: 30px; height: 30px;background-color: rgb(86, 160, 206);\"></td></tr><tr><td title=\"Index: [4, 0]&#10;Color: (208, 225, 242)\" style=\"width: 30px; height: 30px;background-color: rgb(208, 225, 242);\"></td><td title=\"Index: [4, 1]&#10;Color: (23, 100, 171)\" style=\"width: 30px; height: 30px;background-color: rgb(23, 100, 171);\"></td><td title=\"Index: [4, 2]&#10;Color: (61, 141, 196)\" style=\"width: 30px; height: 30px;background-color: rgb(61, 141, 196);\"></td><td title=\"Index: [4, 3]&#10;Color: (104, 172, 213)\" style=\"width: 30px; height: 30px;background-color: rgb(104, 172, 213);\"></td><td title=\"Index: [4, 4]&#10;Color: (247, 251, 255)\" style=\"width: 30px; height: 30px;background-color: rgb(247, 251, 255);\"></td><td title=\"Index: [4, 5]&#10;Color: (78, 154, 203)\" style=\"width: 30px; height: 30px;background-color: rgb(78, 154, 203);\"></td><td title=\"Index: [4, 6]&#10;Color: (157, 202, 225)\" style=\"width: 30px; height: 30px;background-color: rgb(157, 202, 225);\"></td><td title=\"Index: [4, 7]&#10;Color: (217, 232, 245)\" style=\"width: 30px; height: 30px;background-color: rgb(217, 232, 245);\"></td><td title=\"Index: [4, 8]&#10;Color: (191, 216, 237)\" style=\"width: 30px; height: 30px;background-color: rgb(191, 216, 237);\"></td><td title=\"Index: [4, 9]&#10;Color: (188, 215, 235)\" style=\"width: 30px; height: 30px;background-color: rgb(188, 215, 235);\"></td></tr><tr><td title=\"Index: [5, 0]&#10;Color: (179, 211, 232)\" style=\"width: 30px; height: 30px;background-color: rgb(179, 211, 232);\"></td><td title=\"Index: [5, 1]&#10;Color: (95, 166, 209)\" style=\"width: 30px; height: 30px;background-color: rgb(95, 166, 209);\"></td><td title=\"Index: [5, 2]&#10;Color: (8, 56, 119)\" style=\"width: 30px; height: 30px;background-color: rgb(8, 56, 119);\"></td><td title=\"Index: [5, 3]&#10;Color: (22, 99, 170)\" style=\"width: 30px; height: 30px;background-color: rgb(22, 99, 170);\"></td><td title=\"Index: [5, 4]&#10;Color: (26, 104, 174)\" style=\"width: 30px; height: 30px;background-color: rgb(26, 104, 174);\"></td><td title=\"Index: [5, 5]&#10;Color: (8, 73, 144)\" style=\"width: 30px; height: 30px;background-color: rgb(8, 73, 144);\"></td><td title=\"Index: [5, 6]&#10;Color: (49, 129, 189)\" style=\"width: 30px; height: 30px;background-color: rgb(49, 129, 189);\"></td><td title=\"Index: [5, 7]&#10;Color: (10, 84, 158)\" style=\"width: 30px; height: 30px;background-color: rgb(10, 84, 158);\"></td><td title=\"Index: [5, 8]&#10;Color: (200, 220, 240)\" style=\"width: 30px; height: 30px;background-color: rgb(200, 220, 240);\"></td><td title=\"Index: [5, 9]&#10;Color: (133, 188, 220)\" style=\"width: 30px; height: 30px;background-color: rgb(133, 188, 220);\"></td></tr><tr><td title=\"Index: [6, 0]&#10;Color: (214, 230, 244)\" style=\"width: 30px; height: 30px;background-color: rgb(214, 230, 244);\"></td><td title=\"Index: [6, 1]&#10;Color: (237, 244, 252)\" style=\"width: 30px; height: 30px;background-color: rgb(237, 244, 252);\"></td><td title=\"Index: [6, 2]&#10;Color: (46, 126, 188)\" style=\"width: 30px; height: 30px;background-color: rgb(46, 126, 188);\"></td><td title=\"Index: [6, 3]&#10;Color: (53, 133, 191)\" style=\"width: 30px; height: 30px;background-color: rgb(53, 133, 191);\"></td><td title=\"Index: [6, 4]&#10;Color: (47, 127, 188)\" style=\"width: 30px; height: 30px;background-color: rgb(47, 127, 188);\"></td><td title=\"Index: [6, 5]&#10;Color: (122, 182, 217)\" style=\"width: 30px; height: 30px;background-color: rgb(122, 182, 217);\"></td><td title=\"Index: [6, 6]&#10;Color: (151, 198, 223)\" style=\"width: 30px; height: 30px;background-color: rgb(151, 198, 223);\"></td><td title=\"Index: [6, 7]&#10;Color: (166, 206, 228)\" style=\"width: 30px; height: 30px;background-color: rgb(166, 206, 228);\"></td><td title=\"Index: [6, 8]&#10;Color: (189, 215, 236)\" style=\"width: 30px; height: 30px;background-color: rgb(189, 215, 236);\"></td><td title=\"Index: [6, 9]&#10;Color: (205, 224, 241)\" style=\"width: 30px; height: 30px;background-color: rgb(205, 224, 241);\"></td></tr><tr><td title=\"Index: [7, 0]&#10;Color: (8, 64, 130)\" style=\"width: 30px; height: 30px;background-color: rgb(8, 64, 130);\"></td><td title=\"Index: [7, 1]&#10;Color: (95, 166, 209)\" style=\"width: 30px; height: 30px;background-color: rgb(95, 166, 209);\"></td><td title=\"Index: [7, 2]&#10;Color: (38, 118, 184)\" style=\"width: 30px; height: 30px;background-color: rgb(38, 118, 184);\"></td><td title=\"Index: [7, 3]&#10;Color: (200, 220, 240)\" style=\"width: 30px; height: 30px;background-color: rgb(200, 220, 240);\"></td><td title=\"Index: [7, 4]&#10;Color: (25, 102, 173)\" style=\"width: 30px; height: 30px;background-color: rgb(25, 102, 173);\"></td><td title=\"Index: [7, 5]&#10;Color: (243, 248, 254)\" style=\"width: 30px; height: 30px;background-color: rgb(243, 248, 254);\"></td><td title=\"Index: [7, 6]&#10;Color: (8, 66, 133)\" style=\"width: 30px; height: 30px;background-color: rgb(8, 66, 133);\"></td><td title=\"Index: [7, 7]&#10;Color: (36, 116, 183)\" style=\"width: 30px; height: 30px;background-color: rgb(36, 116, 183);\"></td><td title=\"Index: [7, 8]&#10;Color: (129, 186, 219)\" style=\"width: 30px; height: 30px;background-color: rgb(129, 186, 219);\"></td><td title=\"Index: [7, 9]&#10;Color: (202, 222, 240)\" style=\"width: 30px; height: 30px;background-color: rgb(202, 222, 240);\"></td></tr><tr><td title=\"Index: [8, 0]&#10;Color: (108, 174, 214)\" style=\"width: 30px; height: 30px;background-color: rgb(108, 174, 214);\"></td><td title=\"Index: [8, 1]&#10;Color: (56, 136, 193)\" style=\"width: 30px; height: 30px;background-color: rgb(56, 136, 193);\"></td><td title=\"Index: [8, 2]&#10;Color: (202, 222, 240)\" style=\"width: 30px; height: 30px;background-color: rgb(202, 222, 240);\"></td><td title=\"Index: [8, 3]&#10;Color: (8, 66, 133)\" style=\"width: 30px; height: 30px;background-color: rgb(8, 66, 133);\"></td><td title=\"Index: [8, 4]&#10;Color: (14, 88, 162)\" style=\"width: 30px; height: 30px;background-color: rgb(14, 88, 162);\"></td><td title=\"Index: [8, 5]&#10;Color: (47, 127, 188)\" style=\"width: 30px; height: 30px;background-color: rgb(47, 127, 188);\"></td><td title=\"Index: [8, 6]&#10;Color: (8, 66, 133)\" style=\"width: 30px; height: 30px;background-color: rgb(8, 66, 133);\"></td><td title=\"Index: [8, 7]&#10;Color: (200, 220, 240)\" style=\"width: 30px; height: 30px;background-color: rgb(200, 220, 240);\"></td><td title=\"Index: [8, 8]&#10;Color: (8, 59, 124)\" style=\"width: 30px; height: 30px;background-color: rgb(8, 59, 124);\"></td><td title=\"Index: [8, 9]&#10;Color: (210, 227, 243)\" style=\"width: 30px; height: 30px;background-color: rgb(210, 227, 243);\"></td></tr><tr><td title=\"Index: [9, 0]&#10;Color: (8, 67, 135)\" style=\"width: 30px; height: 30px;background-color: rgb(8, 67, 135);\"></td><td title=\"Index: [9, 1]&#10;Color: (8, 48, 107)\" style=\"width: 30px; height: 30px;background-color: rgb(8, 48, 107);\"></td><td title=\"Index: [9, 2]&#10;Color: (212, 228, 244)\" style=\"width: 30px; height: 30px;background-color: rgb(212, 228, 244);\"></td><td title=\"Index: [9, 3]&#10;Color: (8, 77, 150)\" style=\"width: 30px; height: 30px;background-color: rgb(8, 77, 150);\"></td><td title=\"Index: [9, 4]&#10;Color: (168, 206, 228)\" style=\"width: 30px; height: 30px;background-color: rgb(168, 206, 228);\"></td><td title=\"Index: [9, 5]&#10;Color: (174, 209, 231)\" style=\"width: 30px; height: 30px;background-color: rgb(174, 209, 231);\"></td><td title=\"Index: [9, 6]&#10;Color: (37, 117, 183)\" style=\"width: 30px; height: 30px;background-color: rgb(37, 117, 183);\"></td><td title=\"Index: [9, 7]&#10;Color: (8, 71, 141)\" style=\"width: 30px; height: 30px;background-color: rgb(8, 71, 141);\"></td><td title=\"Index: [9, 8]&#10;Color: (238, 245, 252)\" style=\"width: 30px; height: 30px;background-color: rgb(238, 245, 252);\"></td><td title=\"Index: [9, 9]&#10;Color: (154, 200, 224)\" style=\"width: 30px; height: 30px;background-color: rgb(154, 200, 224);\"></td></tr></tbody></table>"
      ],
      "text/plain": [
       "array([[ 0.33947943,  0.6536712 ,  0.64863989,  0.7248363 ,  0.72405591,\n",
       "         0.32085923,  0.05402576,  0.38772007,  0.93522637,  0.23308713],\n",
       "       [ 0.33445713,  0.24873815,  0.63522474,  0.10828664,  0.45593961,\n",
       "         0.76705515,  0.01808006,  0.67257967,  0.19705208,  0.82534665],\n",
       "       [ 0.16598766,  0.2985038 ,  0.84130965,  0.61236842,  0.73052472,\n",
       "         0.20830612,  0.69821222,  0.04413379,  0.66049421,  0.58535731],\n",
       "       [ 0.82816661,  0.80545027,  0.38084977,  0.76333389,  0.3062349 ,\n",
       "         0.72135677,  0.31996726,  0.33176656,  0.63785575,  0.56801352],\n",
       "       [ 0.21387026,  0.79707683,  0.64469929,  0.51724101,  0.01861065,\n",
       "         0.59132123,  0.38744417,  0.1633316 ,  0.28296916,  0.2944061 ],\n",
       "       [ 0.32023951,  0.54345394,  0.96292121,  0.80149015,  0.78360248,\n",
       "         0.89950424,  0.69275465,  0.85739063,  0.25328232,  0.44448311],\n",
       "       [ 0.18124193,  0.06786286,  0.70400325,  0.67720235,  0.69928573,\n",
       "         0.4691521 ,  0.40011844,  0.36114966,  0.29241507,  0.22743909],\n",
       "       [ 0.93580057,  0.54294679,  0.72894813,  0.25083869,  0.78874466,\n",
       "         0.03901797,  0.92642389,  0.73858335,  0.4565364 ,  0.23973792],\n",
       "       [ 0.50490075,  0.66519028,  0.24229053,  0.926493  ,  0.84359569,\n",
       "         0.69904625,  0.92940011,  0.25326881,  0.95191595,  0.2048659 ],\n",
       "       [ 0.92303391,  0.99449744,  0.19031779,  0.8839335 ,  0.35455537,\n",
       "         0.33721859,  0.73268641,  0.90759924,  0.06548939,  0.3937627 ]])"
      ]
     },
     "execution_count": 47,
     "metadata": {},
     "output_type": "execute_result"
    }
   ],
   "source": [
    "a"
   ]
  },
  {
   "cell_type": "code",
   "execution_count": null,
   "metadata": {
    "collapsed": true
   },
   "outputs": [],
   "source": []
  },
  {
   "cell_type": "code",
   "execution_count": null,
   "metadata": {
    "collapsed": true
   },
   "outputs": [],
   "source": []
  }
 ],
 "metadata": {
  "kernelspec": {
   "display_name": "Python 2",
   "language": "python",
   "name": "python2"
  },
  "language_info": {
   "codemirror_mode": {
    "name": "ipython",
    "version": 2
   },
   "file_extension": ".py",
   "mimetype": "text/x-python",
   "name": "python",
   "nbconvert_exporter": "python",
   "pygments_lexer": "ipython2",
   "version": "2.7.6"
  }
 },
 "nbformat": 4,
 "nbformat_minor": 0
}
